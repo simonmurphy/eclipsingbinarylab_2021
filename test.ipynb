{
 "cells": [
  {
   "cell_type": "markdown",
   "metadata": {},
   "source": [
    "# Testing the Jupyter notebook\n",
    "\n",
    "You should see some Python code, a couple of corny jokes, a TV test pattern and an interactive plot. Check you can see everything and that you can manipulate the plot using the toolbar and widgets. Press `SHIFT` + `ENTER` to run the code and move between cells in the notebook."
   ]
  },
  {
   "cell_type": "code",
   "execution_count": null,
   "metadata": {},
   "outputs": [],
   "source": [
    "# Load some modules\n",
    "%matplotlib widget\n",
    "from astropy.table import Table\n",
    "import astropy.units as u\n",
    "import numpy as np\n",
    "import matplotlib.pyplot as plt\n",
    "from interactive_figures import Test\n",
    "\n",
    "# Test Python\n",
    "print('A slice of %.10f'%np.pi)"
   ]
  },
  {
   "cell_type": "markdown",
   "metadata": {},
   "source": [
    "How do astronomers see in the dark? *They use standard candles!*\n",
    "\n",
    "\\begin{align}\n",
    "\\sin(t) & = \\mathrm{a\\ sine\\ of\\ the\\ times} \\\\\n",
    "\\end{align}\n",
    "\n",
    "\\begin{align}\n",
    "y & = mx + b \\quad\\mathrm{is\\ my\\ favourite\\ one\\ liner}\n",
    "\\end{align}\n",
    "\n",
    "<div style=\"margin:30px\">\n",
    "<img src=\"test_pattern.png\">\n",
    "</div>\n",
    "\n",
    "Link to [another notebook](https://www.imdb.com/title/tt0332280/)."
   ]
  },
  {
   "cell_type": "code",
   "execution_count": null,
   "metadata": {
    "scrolled": true
   },
   "outputs": [],
   "source": [
    "Test(freq=5, amplitude=0.5)"
   ]
  },
  {
   "cell_type": "code",
   "execution_count": null,
   "metadata": {},
   "outputs": [],
   "source": []
  }
 ],
 "metadata": {
  "kernelspec": {
   "display_name": "Python 3",
   "language": "python",
   "name": "python3"
  },
  "language_info": {
   "codemirror_mode": {
    "name": "ipython",
    "version": 3
   },
   "file_extension": ".py",
   "mimetype": "text/x-python",
   "name": "python",
   "nbconvert_exporter": "python",
   "pygments_lexer": "ipython3",
   "version": "3.7.2"
  }
 },
 "nbformat": 4,
 "nbformat_minor": 4
}
