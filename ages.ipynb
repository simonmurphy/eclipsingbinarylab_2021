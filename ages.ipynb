{
 "cells": [
  {
   "cell_type": "code",
   "execution_count": 1,
   "metadata": {},
   "outputs": [],
   "source": [
    "# Import various libraries\n",
    "%matplotlib widget\n",
    "from interactive_figures import MassRadiusDiagram"
   ]
  },
  {
   "cell_type": "markdown",
   "metadata": {},
   "source": [
    "## Ages of THOR 42\n",
    "\n",
    "<br>Finally, we can use the masses and radii we have derived to estimate ages for each star. These should be similar to each other (co-evality) as we expect both stars to have been born together in the same stellar nursery.\n",
    "\n",
    "Young, low-mass stars like those comprising THOR 42 are not yet in hydrostatic equilibrium, and are therefore slowly contracting down to their eventual main sequence radii. The regularity of this contraction means we can use the measured radius to estimate an age for the star by comparing its progress to theoretical stellar [*isochrones*](https://ui.adsabs.harvard.edu/abs/2015A%26A...577A..42B/abstract), which join together stellar models of constant age. Be aware that different suites of theoretical models include different physical assumptions and can therefore predict a variety of ages for the same star. \n",
    "\n",
    "__Q16. Add your mass and radius measurements to the figure below. Adjust the isochrone to estimate individual ages for both stars. Are they approximately co-eval?__\n",
    "\n",
    "THOR 42 is thought to be a member of the 32 Orionis Moving Group, which has an independent age estimate of $24\\pm4\\ \\mathrm{Myr}$.\n",
    "\n",
    "__Q17. Are your ages consistent with this value and its uncertainty? Determine an age which is a good match to both stars and include a copy of the figure with this isochrone in your report.__\n",
    "\n",
    "<br>"
   ]
  },
  {
   "cell_type": "code",
   "execution_count": 2,
   "metadata": {},
   "outputs": [
    {
     "data": {
      "application/vnd.jupyter.widget-view+json": {
       "model_id": "b13c0c8ae52840a09b29ea4f12920a74",
       "version_major": 2,
       "version_minor": 0
      },
      "text/plain": [
       "MassRadiusDiagram(children=(Output(), VBox(children=(FloatText(value=1.0, description='$M_{1}$ (M$_{\\\\odot}$)'…"
      ]
     },
     "metadata": {},
     "output_type": "display_data"
    }
   ],
   "source": [
    "# Plot the interactive figure\n",
    "MassRadiusDiagram()"
   ]
  },
  {
   "cell_type": "code",
   "execution_count": null,
   "metadata": {},
   "outputs": [],
   "source": []
  }
 ],
 "metadata": {
  "kernelspec": {
   "display_name": "Python 3",
   "language": "python",
   "name": "python3"
  },
  "language_info": {
   "codemirror_mode": {
    "name": "ipython",
    "version": 3
   },
   "file_extension": ".py",
   "mimetype": "text/x-python",
   "name": "python",
   "nbconvert_exporter": "python",
   "pygments_lexer": "ipython3",
   "version": "3.7.2"
  }
 },
 "nbformat": 4,
 "nbformat_minor": 4
}
